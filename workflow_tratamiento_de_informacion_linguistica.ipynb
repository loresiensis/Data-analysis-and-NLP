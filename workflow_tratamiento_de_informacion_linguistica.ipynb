{
  "nbformat": 4,
  "nbformat_minor": 0,
  "metadata": {
    "colab": {
      "provenance": [],
      "include_colab_link": true
    },
    "kernelspec": {
      "name": "python3",
      "display_name": "Python 3"
    },
    "language_info": {
      "name": "python"
    }
  },
  "cells": [
    {
      "cell_type": "markdown",
      "metadata": {
        "id": "view-in-github",
        "colab_type": "text"
      },
      "source": [
        "<a href=\"https://colab.research.google.com/github/loresiensis/data-analysis-and-nlp/blob/main/workflow_tratamiento_de_informacion_linguistica.ipynb\" target=\"_parent\"><img src=\"https://colab.research.google.com/assets/colab-badge.svg\" alt=\"Open In Colab\"/></a>"
      ]
    },
    {
      "cell_type": "markdown",
      "source": [
        "# Implantación del proceso de tratamiento de información lingüística."
      ],
      "metadata": {
        "id": "NHO1WUmcSIvi"
      }
    },
    {
      "cell_type": "markdown",
      "source": [
        "Vamos a suponer que queremos trabajar sobre los datos de los museos más visitados del mundo, para ello disponemos de una lista de ellos en la siguiente dirección:\n",
        "[https://es.wikipedia.org/wiki/Anexo:Museos_m%C3%A1s_visitados_del_mundo](https://es.wikipedia.org/wiki/Anexo:Museos_m%C3%A1s_visitados_del_mundo)"
      ],
      "metadata": {
        "id": "32xFh6RQ1MpQ"
      }
    },
    {
      "cell_type": "markdown",
      "source": [
        "NOTA 1: recuerda que para los problemas de codificación, es necesario cambiar el parámetro \"encoding\" que se encuentra dentro de las funciones."
      ],
      "metadata": {
        "id": "b0qRMsGm3If5"
      }
    },
    {
      "cell_type": "markdown",
      "source": [
        "NOTA 2: si cambias el nombre a alguna de las funciones, es probable que tengas que cambiarlo también en otras funciones que utilicen la que has renombrado."
      ],
      "metadata": {
        "id": "44DUhyW88lh5"
      }
    },
    {
      "cell_type": "markdown",
      "source": [
        "### Paso 1: Obtención de los datos\n",
        "Obtén el archivo HTML de cualquiera de las maneras vista en clase y súbelo a Google Colab para poder trabajar con él."
      ],
      "metadata": {
        "id": "UOrBhMfU1idr"
      }
    },
    {
      "cell_type": "markdown",
      "source": [
        "#### Paso 1.1: Preparación del entorno\n",
        "Instala la librería [BeautifulSoup](https://www.crummy.com/software/BeautifulSoup/bs4/doc/) para poder interpretar archivos HTML. E importala para poder trabajar con ella.\n",
        "\n",
        "En este paso también puedes declarar una variable *path* que sirva para almacenar la ruta dónde se encuentra el archivo."
      ],
      "metadata": {
        "id": "kBkXwnZk10mL"
      }
    },
    {
      "cell_type": "code",
      "source": [
        "pip install bs4"
      ],
      "metadata": {
        "id": "RE56BwMHyNdi",
        "outputId": "d400633a-75ea-44fb-bf26-f2d779c3440c",
        "colab": {
          "base_uri": "https://localhost:8080/"
        }
      },
      "execution_count": null,
      "outputs": [
        {
          "output_type": "stream",
          "name": "stdout",
          "text": [
            "Looking in indexes: https://pypi.org/simple, https://us-python.pkg.dev/colab-wheels/public/simple/\n",
            "Requirement already satisfied: bs4 in /usr/local/lib/python3.7/dist-packages (0.0.1)\n",
            "Requirement already satisfied: beautifulsoup4 in /usr/local/lib/python3.7/dist-packages (from bs4) (4.6.3)\n"
          ]
        }
      ]
    },
    {
      "cell_type": "code",
      "source": [
        "path='/content/'"
      ],
      "metadata": {
        "id": "flEWyygQyaX7"
      },
      "execution_count": null,
      "outputs": []
    },
    {
      "cell_type": "code",
      "source": [
        "from bs4 import BeautifulSoup"
      ],
      "metadata": {
        "id": "3zPuvkJfyc4B"
      },
      "execution_count": null,
      "outputs": []
    },
    {
      "cell_type": "markdown",
      "source": [
        "### Paso 2: Transformación"
      ],
      "metadata": {
        "id": "DYFXDhJb1-Rc"
      }
    },
    {
      "cell_type": "markdown",
      "source": [
        "#### Paso 2.1\n",
        "Antes de recuperar la información de la tabla, comprueba cuántas tablas tiene el archivo HTML.\n",
        "\n",
        "Para ello puedes utilizar la siguiente función."
      ],
      "metadata": {
        "id": "a6Vsxcp92koc"
      }
    },
    {
      "cell_type": "code",
      "source": [
        "def classtables(filename):\n",
        "    with open(path+filename,encoding=\"utf-8\") as infile:\n",
        "        content = infile.read()\n",
        "        soup = BeautifulSoup(content, 'html.parser')\n",
        "        # Verifying tables and their classes\n",
        "        print('Classes of each table:')\n",
        "        for table in soup.find_all('table'):\n",
        "          print(table.get('class'))"
      ],
      "metadata": {
        "id": "iu-3R5J23A4Z"
      },
      "execution_count": null,
      "outputs": []
    },
    {
      "cell_type": "code",
      "source": [
        "classtables('museos2.html')"
      ],
      "metadata": {
        "id": "XT1yWKVJyshL",
        "outputId": "ee6d7ea4-1f81-48b2-a1d1-eb99d14ca744",
        "colab": {
          "base_uri": "https://localhost:8080/"
        }
      },
      "execution_count": null,
      "outputs": [
        {
          "output_type": "stream",
          "name": "stdout",
          "text": [
            "Classes of each table:\n",
            "['sortable', 'col1cen', 'col5der', 'col6der', 'striped']\n",
            "['wikitable', 'sortable']\n",
            "['hlist', 'navbox-inner']\n"
          ]
        }
      ]
    },
    {
      "cell_type": "markdown",
      "source": [
        "#### Paso 2.2\n",
        "Completa la siguiente función, dónde estás los ***, para poner el nombre de la tabla que contiene la información que queremos en el archivo HTML, y que has obtenido en el paso anterior.\n",
        "\n",
        "Usa esta función para obtener la información de la tabla."
      ],
      "metadata": {
        "id": "8xwIpTSR2S4H"
      }
    },
    {
      "cell_type": "code",
      "source": [
        "def precsv(filename):\n",
        "    with open(path+filename,encoding=\"UTF-8\") as infile:\n",
        "        content = infile.read()\n",
        "        soup = BeautifulSoup(content, 'html.parser')\n",
        "        table = soup.find('table', class_=['sortable', 'col1cen', 'col5der', 'col6der', 'striped'])\n",
        "        return [[cell.text for cell in row.find_all([\"td\",\"th\"])] for row in table.select(\"tr\")]"
      ],
      "metadata": {
        "id": "zSWfuiih3dig"
      },
      "execution_count": null,
      "outputs": []
    },
    {
      "cell_type": "code",
      "source": [
        "precsv('museos2.html')"
      ],
      "metadata": {
        "id": "D_yDfZ-7z4MB",
        "outputId": "dca9d70c-2c9a-43a0-f20b-755f11582c76",
        "colab": {
          "base_uri": "https://localhost:8080/"
        }
      },
      "execution_count": null,
      "outputs": [
        {
          "output_type": "execute_result",
          "data": {
            "text/plain": [
              "[['\\xa0', '', '', '', '', '\\n'],\n",
              " ['Puesto\\n',\n",
              "  'Nombre de Museo\\n',\n",
              "  'Ciudad\\n',\n",
              "  'País\\n',\n",
              "  'N.º de visitantes\\n',\n",
              "  'Año\\n'],\n",
              " ['01',\n",
              "  'Museo del Louvre',\n",
              "  'París',\n",
              "  '\\xa0Francia',\n",
              "  '9\\xa0600\\xa0000',\n",
              "  '2019[1]\\u200b\\n'],\n",
              " ['02',\n",
              "  'Museo Nacional de China',\n",
              "  'Beijing',\n",
              "  'China\\xa0China',\n",
              "  '7\\xa0390\\xa0000',\n",
              "  '2019[1]\\u200b\\n'],\n",
              " ['03',\n",
              "  'Museos Vaticanos',\n",
              "  'Roma',\n",
              "  '\\xa0Ciudad del Vaticano',\n",
              "  '6\\xa0882\\xa0931',\n",
              "  '2019[1]\\u200b\\n'],\n",
              " ['04',\n",
              "  'Metropolitan Museum of Art[Nota 1]\\u200b',\n",
              "  'Nueva York',\n",
              "  '\\xa0Estados Unidos',\n",
              "  '6\\xa0479\\xa0548',\n",
              "  '2019[1]\\u200b\\n'],\n",
              " ['05',\n",
              "  'Museo Británico',\n",
              "  'Londres',\n",
              "  '\\xa0Reino Unido',\n",
              "  '6\\xa0239\\xa0983',\n",
              "  '2019[1]\\u200b\\n'],\n",
              " ['06',\n",
              "  'Tate Modern',\n",
              "  'Londres',\n",
              "  '\\xa0Reino Unido',\n",
              "  '6\\xa0098\\xa0340',\n",
              "  '2019[1]\\u200b\\n'],\n",
              " ['07',\n",
              "  'National Gallery de Londres',\n",
              "  'Londres',\n",
              "  '\\xa0Reino Unido',\n",
              "  '6\\xa0011\\xa0007',\n",
              "  '2019[1]\\u200b\\n'],\n",
              " ['08',\n",
              "  'Museo de Historia Natural (Londres)',\n",
              "  'Londres',\n",
              "  '\\xa0Reino Unido',\n",
              "  '5\\xa0300\\xa0000',\n",
              "  '2019[3]\\u200b\\n'],\n",
              " ['09',\n",
              "  'Museo del Hermitage',\n",
              "  'San Petersburgo',\n",
              "  'Rusia Rusia',\n",
              "  '4\\xa0956\\xa0529',\n",
              "  '2019[1]\\u200b\\n'],\n",
              " ['10',\n",
              "  'American Museum of Natural History',\n",
              "  'Nueva York',\n",
              "  '\\xa0Estados Unidos',\n",
              "  '4\\xa0500\\xa0000',\n",
              "  '2018[4]\\u200b\\n'],\n",
              " ['11',\n",
              "  'Museo Nacional Centro de Arte Reina Sofía',\n",
              "  'Madrid',\n",
              "  'España\\xa0España',\n",
              "  '4\\xa0425\\xa0699',\n",
              "  '2019[1]\\u200b\\n'],\n",
              " ['12',\n",
              "  'China Science and Technology Museum',\n",
              "  'Beijing',\n",
              "  'China\\xa0China',\n",
              "  '4\\xa0400\\xa0000',\n",
              "  '2018[5]\\u200b\\n'],\n",
              " ['13',\n",
              "  'Galleria degli Uffizi',\n",
              "  'Florencia',\n",
              "  'Italia\\xa0Italia',\n",
              "  '4\\xa0391\\xa0861',\n",
              "  '2019 [6]\\u200b\\n'],\n",
              " ['14',\n",
              "  'Zhejiang Museum',\n",
              "  'Hangzhou',\n",
              "  'China\\xa0China',\n",
              "  '4\\xa0200\\xa0000',\n",
              "  '2018[5]\\u200b\\n'],\n",
              " ['15',\n",
              "  'National Museum of Natural History',\n",
              "  'Washington, D.C.',\n",
              "  '\\xa0Estados Unidos',\n",
              "  '4\\xa0200\\xa0000',\n",
              "  '2019[7]\\u200b\\n'],\n",
              " ['16',\n",
              "  'National Gallery of Art',\n",
              "  'Washington, D.C.',\n",
              "  '\\xa0Estados Unidos',\n",
              "  '4\\xa0074\\xa0403',\n",
              "  '2019[1]\\u200b\\n'],\n",
              " ['17',\n",
              "  'Museo de Victoria y Alberto',\n",
              "  'Londres',\n",
              "  '\\xa0Reino Unido',\n",
              "  '3\\xa0932\\xa0938',\n",
              "  '2019[1]\\u200b\\n'],\n",
              " ['18',\n",
              "  'Museo Nacional del Palacio[Nota 2]\\u200b',\n",
              "  'Taipéi',\n",
              "  '\\xa0República de China',\n",
              "  '3\\xa0832\\xa0373',\n",
              "  '2019[1]\\u200b\\n'],\n",
              " ['19',\n",
              "  'Nanjing Museum',\n",
              "  'Nanjing',\n",
              "  'China\\xa0China',\n",
              "  '3\\xa0670\\xa0000',\n",
              "  '2018[5]\\u200b\\n'],\n",
              " ['20',\n",
              "  \"Musée d'Orsay\",\n",
              "  'París',\n",
              "  '\\xa0Francia',\n",
              "  '3\\xa0651\\xa0616',\n",
              "  '2019[1]\\u200b\\n'],\n",
              " ['21',\n",
              "  'Hunan Museum',\n",
              "  'Changsha',\n",
              "  'China\\xa0China',\n",
              "  '3\\xa0600\\xa0000',\n",
              "  '2018[5]\\u200b\\n'],\n",
              " ['22',\n",
              "  'Shanghai Science and Technology Museum',\n",
              "  'Shanghái',\n",
              "  'China\\xa0China',\n",
              "  '3\\xa0540\\xa0000',\n",
              "  '2018[5]\\u200b\\n'],\n",
              " ['23',\n",
              "  'Gansu Provincial Museum',\n",
              "  'Gansu',\n",
              "  'China\\xa0China',\n",
              "  '3\\xa0500\\xa0000',\n",
              "  '2018[5]\\u200b\\n'],\n",
              " ['24',\n",
              "  'Museo Nacional de Corea',\n",
              "  'Seúl',\n",
              "  'Corea del Sur\\xa0Corea del Sur',\n",
              "  '3\\xa0354\\xa0161',\n",
              "  '2019[1]\\u200b\\n'],\n",
              " ['25',\n",
              "  'London Science Museum',\n",
              "  'Londres',\n",
              "  'Reino Unido\\xa0Reino Unido',\n",
              "  '3\\xa0286\\xa0000',\n",
              "  '2018[5]\\u200b\\n'],\n",
              " ['26',\n",
              "  'Centre Pompidou',\n",
              "  'París',\n",
              "  '\\xa0Francia',\n",
              "  '3\\xa0273\\xa0867',\n",
              "  '2019[1]\\u200b\\n'],\n",
              " ['27',\n",
              "  'National Air and Space Museum',\n",
              "  'Washington, D.C.',\n",
              "  '\\xa0Estados Unidos',\n",
              "  '3\\xa0200\\xa0000',\n",
              "  '2019[7]\\u200b\\n'],\n",
              " ['28',\n",
              "  'Somerset House',\n",
              "  'Londres',\n",
              "  '\\xa0Reino Unido',\n",
              "  '3\\xa0143\\xa0626',\n",
              "  '2018[8]\\u200b\\n'],\n",
              " ['29',\n",
              "  'National September 11 Museum',\n",
              "  'Nueva York',\n",
              "  '\\xa0Estados Unidos',\n",
              "  '3\\xa0100\\xa0000',\n",
              "  '2017[9]\\u200b\\n'],\n",
              " ['30',\n",
              "  'National Museum of Natural Science',\n",
              "  'Taichung',\n",
              "  '\\xa0República de China',\n",
              "  '2\\xa0963\\xa0857',\n",
              "  '2018[10]\\u200b\\n'],\n",
              " ['31',\n",
              "  'Museo del Prado',\n",
              "  'Madrid',\n",
              "  'España\\xa0España',\n",
              "  '2\\xa0893\\xa0000',\n",
              "  '2018[5]\\u200b\\n'],\n",
              " ['32',\n",
              "  'Museos del Kremlin de Moscú',\n",
              "  'Moscú',\n",
              "  'Rusia Rusia',\n",
              "  '2\\xa0867\\xa0295',\n",
              "  '2018[8]\\u200b\\n'],\n",
              " ['33',\n",
              "  'Chongqing Museum of Natural History',\n",
              "  'Chongqing',\n",
              "  'China\\xa0China',\n",
              "  '2\\xa0830\\xa0000',\n",
              "  '2018[5]\\u200b\\n'],\n",
              " ['34',\n",
              "  'Mevlana Museum',\n",
              "  'Konya',\n",
              "  'Turquía\\xa0Turquía',\n",
              "  '2\\xa0817\\xa0386',\n",
              "  'name=|group=}}\\n'],\n",
              " ['35',\n",
              "  'National Museum of American History',\n",
              "  'Washington, D.C.',\n",
              "  '\\xa0Estados Unidos',\n",
              "  '2\\xa0800\\xa0000',\n",
              "  '2019[7]\\u200b\\n'],\n",
              " ['36',\n",
              "  'Shaanxi History Museum',\n",
              "  \"Xi'an\",\n",
              "  'China\\xa0China',\n",
              "  '2\\xa0800\\xa0000',\n",
              "  '2018[5]\\u200b\\n'],\n",
              " ['37',\n",
              "  'Museo de arte metropolitano de Tokio',\n",
              "  'Tokio',\n",
              "  'Japón\\xa0Japón',\n",
              "  '2\\xa0787\\xa0770',\n",
              "  '2018[8]\\u200b\\n'],\n",
              " ['38',\n",
              "  'Chengdu Museum',\n",
              "  'Chengdu',\n",
              "  'China\\xa0China',\n",
              "  '2\\xa0780\\xa0000',\n",
              "  '2018[5]\\u200b\\n'],\n",
              " ['39',\n",
              "  'Museum of Modern Art',\n",
              "  'Nueva York',\n",
              "  '\\xa0Estados Unidos',\n",
              "  '2\\xa0774\\xa0103',\n",
              "  '2018[8]\\u200b\\n'],\n",
              " ['40',\n",
              "  'National Art Center',\n",
              "  'Tokio',\n",
              "  'Japón\\xa0Japón',\n",
              "  '2\\xa0717\\xa0565',\n",
              "  '2018[8]\\u200b\\n'],\n",
              " ['41',\n",
              "  'Museo Nacional de Historia (Castillo de Chapultepec)',\n",
              "  'Ciudad de México',\n",
              "  'México México',\n",
              "  '2\\xa0661\\xa0615',\n",
              "  '2018[12]\\u200b\\n'],\n",
              " ['42',\n",
              "  'Museo Nacional de Antropología (México)',\n",
              "  'Ciudad de México',\n",
              "  'México México',\n",
              "  '2\\xa0596\\xa0725',\n",
              "  '2018[12]\\u200b\\n'],\n",
              " ['43',\n",
              "  'National Gallery of Victoria',\n",
              "  'Melbourne',\n",
              "  '\\xa0Australia',\n",
              "  '2\\xa0565\\xa0474',\n",
              "  '2018[8]\\u200b\\n'],\n",
              " ['44',\n",
              "  'Chongqing Science and Technology Museum',\n",
              "  'Chongqing',\n",
              "  'China\\xa0China',\n",
              "  '2\\xa0560\\xa0000',\n",
              "  '2017 [13]\\u200b\\n'],\n",
              " ['45',\n",
              "  'China Art Museum',\n",
              "  'Shanghái',\n",
              "  'China\\xa0China',\n",
              "  '2\\xa0550\\xa0000',\n",
              "  '2018[5]\\u200b\\n'],\n",
              " ['46',\n",
              "  \"Royal Museums Greenwich (conjunto formado por National Maritime Museum, Queen's House, Royal Observatory y Cutty Sark\",\n",
              "  'Greenwich',\n",
              "  'Reino Unido\\xa0Reino Unido',\n",
              "  '2\\xa0549\\xa0833',\n",
              "  '2018[14]\\u200b\\n'],\n",
              " ['47',\n",
              "  'California Science Center',\n",
              "  'Los Ángeles',\n",
              "  '\\xa0Estados Unidos',\n",
              "  '2\\xa0520\\xa0000',\n",
              "  '2018[5]\\u200b\\n'],\n",
              " ['48',\n",
              "  'Museo Nacional de Ciencia de Japón',\n",
              "  'Tokio',\n",
              "  'Japón\\xa0Japón',\n",
              "  '2\\xa0460\\xa0000',\n",
              "  '2018[5]\\u200b\\n'],\n",
              " ['49',\n",
              "  'Museo Nacional de Tokio',\n",
              "  'Tokio',\n",
              "  'Japón\\xa0Japón',\n",
              "  '2\\xa0431\\xa0073',\n",
              "  '2018[8]\\u200b\\n'],\n",
              " ['50',\n",
              "  'National Museum of African American History and Culture',\n",
              "  'Washington, D.C.',\n",
              "  '\\xa0Estados Unidos',\n",
              "  '2\\xa0400\\xa0000',\n",
              "  '2018[5]\\u200b\\n'],\n",
              " ['51',\n",
              "  'Suzhou Museum',\n",
              "  'Suzhou',\n",
              "  'China\\xa0China',\n",
              "  '2\\xa0340\\xa0000',\n",
              "  '2018[5]\\u200b\\n'],\n",
              " ['52',\n",
              "  'Houston Museum of Natural Science',\n",
              "  'Houston',\n",
              "  '\\xa0Estados Unidos',\n",
              "  '2\\xa0313\\xa0000',\n",
              "  '2018[5]\\u200b\\n'],\n",
              " ['53',\n",
              "  'Donald W. Reynolds Center for American Art and Portraiture',\n",
              "  'Washington, D.C.',\n",
              "  '\\xa0Estados Unidos',\n",
              "  '2\\xa0304\\xa0404',\n",
              "  '2018[8]\\u200b\\n'],\n",
              " ['54',\n",
              "  'Rijksmuseum',\n",
              "  'Ámsterdam',\n",
              "  'Países Bajos\\xa0Países Bajos',\n",
              "  '2\\xa0300\\xa0000',\n",
              "  '2018[5]\\u200b\\n'],\n",
              " ['55',\n",
              "  'Three Gorges Museum',\n",
              "  'Chongqing',\n",
              "  'China\\xa0China',\n",
              "  '2\\xa0240\\xa0000',\n",
              "  '2018[5]\\u200b\\n'],\n",
              " ['56',\n",
              "  \"Cité des sciences et de l'industrie\",\n",
              "  'París',\n",
              "  '\\xa0Francia',\n",
              "  '2\\xa0231\\xa0000',\n",
              "  '2018[5]\\u200b\\n'],\n",
              " ['57',\n",
              "  'Museo Nacional de Escocia',\n",
              "  'Edimburgo',\n",
              "  'Reino Unido\\xa0Reino Unido',\n",
              "  '2\\xa0227\\xa0773',\n",
              "  '2018[8]\\u200b\\n'],\n",
              " ['58',\n",
              "  'Museo Estatal Ruso',\n",
              "  'San Petersburgo',\n",
              "  'Rusia Rusia',\n",
              "  '2\\xa0192\\xa0200',\n",
              "  '2018[15]\\u200b\\n'],\n",
              " ['59',\n",
              "  'Galerías nacionales de Escocia',\n",
              "  'Edimburgo',\n",
              "  '\\xa0Reino Unido',\n",
              "  '2\\xa0165\\xa0601',\n",
              "  '2017[16]\\u200b\\n'],\n",
              " ['60',\n",
              "  'Museo Van Gogh',\n",
              "  'Ámsterdam',\n",
              "  'Países Bajos\\xa0Países Bajos',\n",
              "  '2\\xa0161\\xa0160',\n",
              "  '2018[8]\\u200b\\n'],\n",
              " ['61',\n",
              "  'Galería Tretiakov',\n",
              "  'Moscú',\n",
              "  'Rusia Rusia',\n",
              "  '2\\xa0148\\xa0538',\n",
              "  '2018[8]\\u200b\\n'],\n",
              " ['62',\n",
              "  'Shanghai Museum',\n",
              "  'Shanghái',\n",
              "  'China\\xa0China',\n",
              "  '2\\xa0111\\xa0730',\n",
              "  '2018[8]\\u200b\\n'],\n",
              " ['63',\n",
              "  'Museo estatal Auschwitz-Birkenau',\n",
              "  'Oświęcim',\n",
              "  'Polonia\\xa0Polonia',\n",
              "  '2\\xa0100\\xa0000',\n",
              "  '2018[5]\\u200b\\n'],\n",
              " ['64',\n",
              "  'Castillo de Edimburgo',\n",
              "  'Edimburgo',\n",
              "  'Reino Unido\\xa0Reino Unido',\n",
              "  '2\\xa0063\\xa0709',\n",
              "  '2017[16]\\u200b\\n'],\n",
              " ['65',\n",
              "  'Museo Folclórico Nacional de Corea',\n",
              "  'Seúl',\n",
              "  'Corea del Sur\\xa0Corea del Sur',\n",
              "  '2\\xa0054\\xa0719',\n",
              "  '2018[8]\\u200b\\n'],\n",
              " ['f/o',\n",
              "  'National Science and Technology Museum',\n",
              "  'Kaohsiung',\n",
              "  '\\xa0República de China',\n",
              "  '1\\xa0981\\xa0000',\n",
              "  '2017[17]\\u200b\\n']]"
            ]
          },
          "metadata": {},
          "execution_count": 7
        }
      ]
    },
    {
      "cell_type": "markdown",
      "source": [
        "#### Paso 2.3"
      ],
      "metadata": {
        "id": "dGm5G87g4GIH"
      }
    },
    {
      "cell_type": "markdown",
      "source": [
        "La información recuperada contiene caracteres especiales. Completa la función anterior, para eliminarlos y que sean más legibles los datos."
      ],
      "metadata": {
        "id": "4RJ1SrkY4WYZ"
      }
    },
    {
      "cell_type": "code",
      "source": [
        "def precsv(filename):\n",
        "    with open(path+filename,encoding=\"UTF-8\") as infile:\n",
        "        content = infile.read()\n",
        "        soup = BeautifulSoup(content, 'html.parser')\n",
        "        table = soup.find('table', class_=['sortable', 'col1cen', 'col5der', 'col6der', 'striped'])\n",
        "        return [[cell.text.replace('\\xa0','').replace('\\n','').replace('\\u200b','') for cell in row.find_all([\"td\",\"th\"])] for row in table.select(\"tr\")]"
      ],
      "metadata": {
        "id": "kiwMwQKh0Usi"
      },
      "execution_count": null,
      "outputs": []
    },
    {
      "cell_type": "code",
      "source": [
        "precsv('museos2.html')"
      ],
      "metadata": {
        "id": "opJQLoe4034Q",
        "outputId": "d867fd61-942d-411b-bd3d-ed39cda121b1",
        "colab": {
          "base_uri": "https://localhost:8080/"
        }
      },
      "execution_count": null,
      "outputs": [
        {
          "output_type": "execute_result",
          "data": {
            "text/plain": [
              "[['', '', '', '', '', ''],\n",
              " ['Puesto', 'Nombre de Museo', 'Ciudad', 'País', 'N.º de visitantes', 'Año'],\n",
              " ['01', 'Museo del Louvre', 'París', 'Francia', '9600000', '2019[1]'],\n",
              " ['02',\n",
              "  'Museo Nacional de China',\n",
              "  'Beijing',\n",
              "  'ChinaChina',\n",
              "  '7390000',\n",
              "  '2019[1]'],\n",
              " ['03',\n",
              "  'Museos Vaticanos',\n",
              "  'Roma',\n",
              "  'Ciudad del Vaticano',\n",
              "  '6882931',\n",
              "  '2019[1]'],\n",
              " ['04',\n",
              "  'Metropolitan Museum of Art[Nota 1]',\n",
              "  'Nueva York',\n",
              "  'Estados Unidos',\n",
              "  '6479548',\n",
              "  '2019[1]'],\n",
              " ['05', 'Museo Británico', 'Londres', 'Reino Unido', '6239983', '2019[1]'],\n",
              " ['06', 'Tate Modern', 'Londres', 'Reino Unido', '6098340', '2019[1]'],\n",
              " ['07',\n",
              "  'National Gallery de Londres',\n",
              "  'Londres',\n",
              "  'Reino Unido',\n",
              "  '6011007',\n",
              "  '2019[1]'],\n",
              " ['08',\n",
              "  'Museo de Historia Natural (Londres)',\n",
              "  'Londres',\n",
              "  'Reino Unido',\n",
              "  '5300000',\n",
              "  '2019[3]'],\n",
              " ['09',\n",
              "  'Museo del Hermitage',\n",
              "  'San Petersburgo',\n",
              "  'Rusia Rusia',\n",
              "  '4956529',\n",
              "  '2019[1]'],\n",
              " ['10',\n",
              "  'American Museum of Natural History',\n",
              "  'Nueva York',\n",
              "  'Estados Unidos',\n",
              "  '4500000',\n",
              "  '2018[4]'],\n",
              " ['11',\n",
              "  'Museo Nacional Centro de Arte Reina Sofía',\n",
              "  'Madrid',\n",
              "  'EspañaEspaña',\n",
              "  '4425699',\n",
              "  '2019[1]'],\n",
              " ['12',\n",
              "  'China Science and Technology Museum',\n",
              "  'Beijing',\n",
              "  'ChinaChina',\n",
              "  '4400000',\n",
              "  '2018[5]'],\n",
              " ['13',\n",
              "  'Galleria degli Uffizi',\n",
              "  'Florencia',\n",
              "  'ItaliaItalia',\n",
              "  '4391861',\n",
              "  '2019 [6]'],\n",
              " ['14', 'Zhejiang Museum', 'Hangzhou', 'ChinaChina', '4200000', '2018[5]'],\n",
              " ['15',\n",
              "  'National Museum of Natural History',\n",
              "  'Washington, D.C.',\n",
              "  'Estados Unidos',\n",
              "  '4200000',\n",
              "  '2019[7]'],\n",
              " ['16',\n",
              "  'National Gallery of Art',\n",
              "  'Washington, D.C.',\n",
              "  'Estados Unidos',\n",
              "  '4074403',\n",
              "  '2019[1]'],\n",
              " ['17',\n",
              "  'Museo de Victoria y Alberto',\n",
              "  'Londres',\n",
              "  'Reino Unido',\n",
              "  '3932938',\n",
              "  '2019[1]'],\n",
              " ['18',\n",
              "  'Museo Nacional del Palacio[Nota 2]',\n",
              "  'Taipéi',\n",
              "  'República de China',\n",
              "  '3832373',\n",
              "  '2019[1]'],\n",
              " ['19', 'Nanjing Museum', 'Nanjing', 'ChinaChina', '3670000', '2018[5]'],\n",
              " ['20', \"Musée d'Orsay\", 'París', 'Francia', '3651616', '2019[1]'],\n",
              " ['21', 'Hunan Museum', 'Changsha', 'ChinaChina', '3600000', '2018[5]'],\n",
              " ['22',\n",
              "  'Shanghai Science and Technology Museum',\n",
              "  'Shanghái',\n",
              "  'ChinaChina',\n",
              "  '3540000',\n",
              "  '2018[5]'],\n",
              " ['23',\n",
              "  'Gansu Provincial Museum',\n",
              "  'Gansu',\n",
              "  'ChinaChina',\n",
              "  '3500000',\n",
              "  '2018[5]'],\n",
              " ['24',\n",
              "  'Museo Nacional de Corea',\n",
              "  'Seúl',\n",
              "  'Corea del SurCorea del Sur',\n",
              "  '3354161',\n",
              "  '2019[1]'],\n",
              " ['25',\n",
              "  'London Science Museum',\n",
              "  'Londres',\n",
              "  'Reino UnidoReino Unido',\n",
              "  '3286000',\n",
              "  '2018[5]'],\n",
              " ['26', 'Centre Pompidou', 'París', 'Francia', '3273867', '2019[1]'],\n",
              " ['27',\n",
              "  'National Air and Space Museum',\n",
              "  'Washington, D.C.',\n",
              "  'Estados Unidos',\n",
              "  '3200000',\n",
              "  '2019[7]'],\n",
              " ['28', 'Somerset House', 'Londres', 'Reino Unido', '3143626', '2018[8]'],\n",
              " ['29',\n",
              "  'National September 11 Museum',\n",
              "  'Nueva York',\n",
              "  'Estados Unidos',\n",
              "  '3100000',\n",
              "  '2017[9]'],\n",
              " ['30',\n",
              "  'National Museum of Natural Science',\n",
              "  'Taichung',\n",
              "  'República de China',\n",
              "  '2963857',\n",
              "  '2018[10]'],\n",
              " ['31', 'Museo del Prado', 'Madrid', 'EspañaEspaña', '2893000', '2018[5]'],\n",
              " ['32',\n",
              "  'Museos del Kremlin de Moscú',\n",
              "  'Moscú',\n",
              "  'Rusia Rusia',\n",
              "  '2867295',\n",
              "  '2018[8]'],\n",
              " ['33',\n",
              "  'Chongqing Museum of Natural History',\n",
              "  'Chongqing',\n",
              "  'ChinaChina',\n",
              "  '2830000',\n",
              "  '2018[5]'],\n",
              " ['34',\n",
              "  'Mevlana Museum',\n",
              "  'Konya',\n",
              "  'TurquíaTurquía',\n",
              "  '2817386',\n",
              "  'name=|group=}}'],\n",
              " ['35',\n",
              "  'National Museum of American History',\n",
              "  'Washington, D.C.',\n",
              "  'Estados Unidos',\n",
              "  '2800000',\n",
              "  '2019[7]'],\n",
              " ['36', 'Shaanxi History Museum', \"Xi'an\", 'ChinaChina', '2800000', '2018[5]'],\n",
              " ['37',\n",
              "  'Museo de arte metropolitano de Tokio',\n",
              "  'Tokio',\n",
              "  'JapónJapón',\n",
              "  '2787770',\n",
              "  '2018[8]'],\n",
              " ['38', 'Chengdu Museum', 'Chengdu', 'ChinaChina', '2780000', '2018[5]'],\n",
              " ['39',\n",
              "  'Museum of Modern Art',\n",
              "  'Nueva York',\n",
              "  'Estados Unidos',\n",
              "  '2774103',\n",
              "  '2018[8]'],\n",
              " ['40', 'National Art Center', 'Tokio', 'JapónJapón', '2717565', '2018[8]'],\n",
              " ['41',\n",
              "  'Museo Nacional de Historia (Castillo de Chapultepec)',\n",
              "  'Ciudad de México',\n",
              "  'México México',\n",
              "  '2661615',\n",
              "  '2018[12]'],\n",
              " ['42',\n",
              "  'Museo Nacional de Antropología (México)',\n",
              "  'Ciudad de México',\n",
              "  'México México',\n",
              "  '2596725',\n",
              "  '2018[12]'],\n",
              " ['43',\n",
              "  'National Gallery of Victoria',\n",
              "  'Melbourne',\n",
              "  'Australia',\n",
              "  '2565474',\n",
              "  '2018[8]'],\n",
              " ['44',\n",
              "  'Chongqing Science and Technology Museum',\n",
              "  'Chongqing',\n",
              "  'ChinaChina',\n",
              "  '2560000',\n",
              "  '2017 [13]'],\n",
              " ['45', 'China Art Museum', 'Shanghái', 'ChinaChina', '2550000', '2018[5]'],\n",
              " ['46',\n",
              "  \"Royal Museums Greenwich (conjunto formado por National Maritime Museum, Queen's House, Royal Observatory y Cutty Sark\",\n",
              "  'Greenwich',\n",
              "  'Reino UnidoReino Unido',\n",
              "  '2549833',\n",
              "  '2018[14]'],\n",
              " ['47',\n",
              "  'California Science Center',\n",
              "  'Los Ángeles',\n",
              "  'Estados Unidos',\n",
              "  '2520000',\n",
              "  '2018[5]'],\n",
              " ['48',\n",
              "  'Museo Nacional de Ciencia de Japón',\n",
              "  'Tokio',\n",
              "  'JapónJapón',\n",
              "  '2460000',\n",
              "  '2018[5]'],\n",
              " ['49',\n",
              "  'Museo Nacional de Tokio',\n",
              "  'Tokio',\n",
              "  'JapónJapón',\n",
              "  '2431073',\n",
              "  '2018[8]'],\n",
              " ['50',\n",
              "  'National Museum of African American History and Culture',\n",
              "  'Washington, D.C.',\n",
              "  'Estados Unidos',\n",
              "  '2400000',\n",
              "  '2018[5]'],\n",
              " ['51', 'Suzhou Museum', 'Suzhou', 'ChinaChina', '2340000', '2018[5]'],\n",
              " ['52',\n",
              "  'Houston Museum of Natural Science',\n",
              "  'Houston',\n",
              "  'Estados Unidos',\n",
              "  '2313000',\n",
              "  '2018[5]'],\n",
              " ['53',\n",
              "  'Donald W. Reynolds Center for American Art and Portraiture',\n",
              "  'Washington, D.C.',\n",
              "  'Estados Unidos',\n",
              "  '2304404',\n",
              "  '2018[8]'],\n",
              " ['54',\n",
              "  'Rijksmuseum',\n",
              "  'Ámsterdam',\n",
              "  'Países BajosPaíses Bajos',\n",
              "  '2300000',\n",
              "  '2018[5]'],\n",
              " ['55',\n",
              "  'Three Gorges Museum',\n",
              "  'Chongqing',\n",
              "  'ChinaChina',\n",
              "  '2240000',\n",
              "  '2018[5]'],\n",
              " ['56',\n",
              "  \"Cité des sciences et de l'industrie\",\n",
              "  'París',\n",
              "  'Francia',\n",
              "  '2231000',\n",
              "  '2018[5]'],\n",
              " ['57',\n",
              "  'Museo Nacional de Escocia',\n",
              "  'Edimburgo',\n",
              "  'Reino UnidoReino Unido',\n",
              "  '2227773',\n",
              "  '2018[8]'],\n",
              " ['58',\n",
              "  'Museo Estatal Ruso',\n",
              "  'San Petersburgo',\n",
              "  'Rusia Rusia',\n",
              "  '2192200',\n",
              "  '2018[15]'],\n",
              " ['59',\n",
              "  'Galerías nacionales de Escocia',\n",
              "  'Edimburgo',\n",
              "  'Reino Unido',\n",
              "  '2165601',\n",
              "  '2017[16]'],\n",
              " ['60',\n",
              "  'Museo Van Gogh',\n",
              "  'Ámsterdam',\n",
              "  'Países BajosPaíses Bajos',\n",
              "  '2161160',\n",
              "  '2018[8]'],\n",
              " ['61', 'Galería Tretiakov', 'Moscú', 'Rusia Rusia', '2148538', '2018[8]'],\n",
              " ['62', 'Shanghai Museum', 'Shanghái', 'ChinaChina', '2111730', '2018[8]'],\n",
              " ['63',\n",
              "  'Museo estatal Auschwitz-Birkenau',\n",
              "  'Oświęcim',\n",
              "  'PoloniaPolonia',\n",
              "  '2100000',\n",
              "  '2018[5]'],\n",
              " ['64',\n",
              "  'Castillo de Edimburgo',\n",
              "  'Edimburgo',\n",
              "  'Reino UnidoReino Unido',\n",
              "  '2063709',\n",
              "  '2017[16]'],\n",
              " ['65',\n",
              "  'Museo Folclórico Nacional de Corea',\n",
              "  'Seúl',\n",
              "  'Corea del SurCorea del Sur',\n",
              "  '2054719',\n",
              "  '2018[8]'],\n",
              " ['f/o',\n",
              "  'National Science and Technology Museum',\n",
              "  'Kaohsiung',\n",
              "  'República de China',\n",
              "  '1981000',\n",
              "  '2017[17]']]"
            ]
          },
          "metadata": {},
          "execution_count": 9
        }
      ]
    },
    {
      "cell_type": "markdown",
      "source": [
        "#### Paso 2.4\n",
        "Una vez tengamos nuestros datos en este punto, podemos decidir si, guardarlos en un csv para luego poder procesarlos en una hoja de cálculo, o si seguir transformándolos un paso más, ya que para nuestro análisis posterior es mejor que los datos estén *tokenizados*.\n",
        "\n",
        "Vamos a realizar las dos alternativas."
      ],
      "metadata": {
        "id": "Mpt-C8L16zZk"
      }
    },
    {
      "cell_type": "markdown",
      "source": [
        "##### Paso 2.4.1: Generar un csv"
      ],
      "metadata": {
        "id": "ns5zi6Yz7XX1"
      }
    },
    {
      "cell_type": "markdown",
      "source": [
        "Copia a continuación y utiliza la función vista en clase para generar un csv con la información de la tabla."
      ],
      "metadata": {
        "id": "Ifqp89k17di7"
      }
    },
    {
      "cell_type": "code",
      "source": [
        "def from_html_to_csv (filename):\n",
        "    with open(path+filename+\"Generated.csv\", \"wt\", encoding=\"utf-8\") as outfile:\n",
        "        for row in precsv(filename+\".html\"):\n",
        "            outfile.write(row[0])\n",
        "            for cell in row[1:]:\n",
        "                outfile.write('\\t'+cell)\n",
        "            outfile.write('\\n')"
      ],
      "metadata": {
        "id": "Dotzrd0B1QGP"
      },
      "execution_count": null,
      "outputs": []
    },
    {
      "cell_type": "code",
      "source": [
        "from_html_to_csv('museos2')"
      ],
      "metadata": {
        "id": "6Zoip28b1Wuj"
      },
      "execution_count": null,
      "outputs": []
    },
    {
      "cell_type": "markdown",
      "source": [
        "##### Paso 2.4.2: Tokenizar y generar csv"
      ],
      "metadata": {
        "id": "y3k2GbWF7sXL"
      }
    },
    {
      "cell_type": "markdown",
      "source": [
        "Ejecuta el siguiente código visto en clase, y utilizalo para poder generar un csv con la información tokenizada."
      ],
      "metadata": {
        "id": "oSEhacw77-Ea"
      }
    },
    {
      "cell_type": "code",
      "source": [
        "pip install nltk"
      ],
      "metadata": {
        "id": "juhJNLZa7zCD",
        "outputId": "1e10374f-a100-4599-d06f-8bfdb11d0f79",
        "colab": {
          "base_uri": "https://localhost:8080/"
        }
      },
      "execution_count": null,
      "outputs": [
        {
          "output_type": "stream",
          "name": "stdout",
          "text": [
            "Looking in indexes: https://pypi.org/simple, https://us-python.pkg.dev/colab-wheels/public/simple/\n",
            "Requirement already satisfied: nltk in /usr/local/lib/python3.7/dist-packages (3.7)\n",
            "Requirement already satisfied: click in /usr/local/lib/python3.7/dist-packages (from nltk) (7.1.2)\n",
            "Requirement already satisfied: joblib in /usr/local/lib/python3.7/dist-packages (from nltk) (1.2.0)\n",
            "Requirement already satisfied: regex>=2021.8.3 in /usr/local/lib/python3.7/dist-packages (from nltk) (2022.6.2)\n",
            "Requirement already satisfied: tqdm in /usr/local/lib/python3.7/dist-packages (from nltk) (4.64.1)\n"
          ]
        }
      ]
    },
    {
      "cell_type": "code",
      "source": [
        "# importamos las librerías necesarias\n",
        "import nltk\n",
        "nltk.download('punkt')\n",
        "from nltk.tokenize import word_tokenize"
      ],
      "metadata": {
        "id": "JnKUQiLuAwG0",
        "outputId": "162564f3-27ee-49e2-e88f-7fabb3cd2bf3",
        "colab": {
          "base_uri": "https://localhost:8080/"
        }
      },
      "execution_count": null,
      "outputs": [
        {
          "output_type": "stream",
          "name": "stderr",
          "text": [
            "[nltk_data] Downloading package punkt to /root/nltk_data...\n",
            "[nltk_data]   Package punkt is already up-to-date!\n"
          ]
        }
      ]
    },
    {
      "cell_type": "markdown",
      "source": [
        "La siguiente función tokeniza una fila:"
      ],
      "metadata": {
        "id": "4Ehg00Pz8Kpr"
      }
    },
    {
      "cell_type": "code",
      "source": [
        "def tokenize_last_cell (l):\n",
        "    nminus1 = len(l)-1\n",
        "    lres = []\n",
        "    for i in range(nminus1):\n",
        "        lres.append(l[i])\n",
        "    for word in word_tokenize(l[nminus1]):\n",
        "        lres.append(word)\n",
        "    return lres"
      ],
      "metadata": {
        "id": "d3wT1SuF8ISj"
      },
      "execution_count": null,
      "outputs": []
    },
    {
      "cell_type": "markdown",
      "source": [
        "Se define la siguietne función, para que llame a la anterior en cada una de las filas de la tabla:"
      ],
      "metadata": {
        "id": "Q8Q9Bz6F8P_L"
      }
    },
    {
      "cell_type": "code",
      "source": [
        "def precsv_tokenize (lol): # tokenizing the last cell of each row\n",
        "    return [tokenize_last_cell(row) for row in lol]"
      ],
      "metadata": {
        "id": "E2Mq1bxK8aNj"
      },
      "execution_count": null,
      "outputs": []
    },
    {
      "cell_type": "markdown",
      "source": [
        "Definmos la última función, con la que trabajaremos directamente con los documentos, y que envuelve a las anteriores:"
      ],
      "metadata": {
        "id": "bkdan2cZ8bIp"
      }
    },
    {
      "cell_type": "code",
      "source": [
        "def from_html_to_csv_through_tokenize (filename):\n",
        "    with open(path+filename+\"GeneratedTokenized.csv\", \"wt\", encoding=\"utf-8\") as outfile:\n",
        "        for row in precsv_tokenize(precsv(filename+\".html\")):\n",
        "            outfile.write(row[0])\n",
        "            for cell in row[1:]:\n",
        "                if cell != ',':\n",
        "                    outfile.write('\\t'+cell)\n",
        "            outfile.write('\\n')"
      ],
      "metadata": {
        "id": "vYq3Hh1J8e5r"
      },
      "execution_count": null,
      "outputs": []
    },
    {
      "cell_type": "code",
      "source": [
        "from_html_to_csv_through_tokenize('museos2')"
      ],
      "metadata": {
        "id": "bOmdrrhD1zkk"
      },
      "execution_count": null,
      "outputs": []
    },
    {
      "cell_type": "markdown",
      "source": [
        "### Paso 3: Trabajar con archivos csv"
      ],
      "metadata": {
        "id": "tY8OmCRdAHHV"
      }
    },
    {
      "cell_type": "markdown",
      "source": [
        "Finalmente tendremos nuestros datos en un archivo csv (concretamente en dos, uno con los datos *tokenizados* y otro sin *tokenizar*.\n",
        "\n",
        "Descarga los archivos y comprueba que la información está dentro. Puedes abrirlos con un bloc de notas o con una hoja de cálculo tipo *Excel*.\n",
        "\n",
        "La semana que viene veremos como trabajar estos datos desde este punto.\n",
        "No hace falta que entregues los archivos csv con la práctica.\n",
        "\n",
        "Guarda este cuaderno de colab como una copia en tu repositorio de GitHub, y desde ahí yo lo podré corregir."
      ],
      "metadata": {
        "id": "MiLjBjDX-65f"
      }
    }
  ]
}