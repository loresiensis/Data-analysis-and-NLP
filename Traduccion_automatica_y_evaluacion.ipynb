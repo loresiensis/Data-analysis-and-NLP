{
  "nbformat": 4,
  "nbformat_minor": 0,
  "metadata": {
    "colab": {
      "provenance": [],
      "authorship_tag": "ABX9TyOs4HxWE6u9GHHmvmzER0bo",
      "include_colab_link": true
    },
    "kernelspec": {
      "name": "python3",
      "display_name": "Python 3"
    },
    "language_info": {
      "name": "python"
    }
  },
  "cells": [
    {
      "cell_type": "markdown",
      "metadata": {
        "id": "view-in-github",
        "colab_type": "text"
      },
      "source": [
        "<a href=\"https://colab.research.google.com/github/loresiensis/data-analysis-and-nlp/blob/main/Traduccion_automatica_y_evaluacion.ipynb\" target=\"_parent\"><img src=\"https://colab.research.google.com/assets/colab-badge.svg\" alt=\"Open In Colab\"/></a>"
      ]
    },
    {
      "cell_type": "markdown",
      "source": [
        "Texto original"
      ],
      "metadata": {
        "id": "wf1Gveb8q3kC"
      }
    },
    {
      "cell_type": "code",
      "source": [
        "original = 'The obvious answer is that since we can, of course, make decisions for ourselves, there is no reason why these shouldn’t include ourselves in the future. Indeed, we make such decisions all the time, when we sign up for twenty-five year mortgages, pension plans, to have and to hold till death us do part, or even just for a two-year work contract. Alongside this duty to make good our promises, though, there must also surely be a concomitant right to change our minds as our circumstances and beliefs change. Many people, for example, say things that begin ‘shoot me if I ever …’, especially when young. And although it is often just a figure of speech, it is frequently said with the utmost sincerity, and often by people who are of the age of majority and so considered adults capable of making decisions about their own futures. To hold people to these vows, however, would be ridiculous. However, the fact that we do think it reasonable to change our minds should make us see these other long term commitments as also being less than absolute. For the plain truth is that we change. In a very real sense, we are not the same people that we were many years in the past. So when we make promises on behalf of our future selves, we are to some degree making promises for someone other than who we now are. And that means our promises should not be seen as morally binding.'"
      ],
      "metadata": {
        "id": "mm4Nvw5AQN6D"
      },
      "execution_count": null,
      "outputs": []
    },
    {
      "cell_type": "code",
      "source": [
        "original_phrases = [x.strip() for x in original.split('.')[:-1]]\n",
        "original_phrases"
      ],
      "metadata": {
        "colab": {
          "base_uri": "https://localhost:8080/"
        },
        "id": "WKboDsE2QNgK",
        "outputId": "50144d01-94ba-46b4-df3f-6f68d9a661f0"
      },
      "execution_count": null,
      "outputs": [
        {
          "output_type": "execute_result",
          "data": {
            "text/plain": [
              "['The obvious answer is that since we can, of course, make decisions for ourselves, there is no reason why these shouldn’t include ourselves in the future',\n",
              " 'Indeed, we make such decisions all the time, when we sign up for twenty-five year mortgages, pension plans, to have and to hold till death us do part, or even just for a two-year work contract',\n",
              " 'Alongside this duty to make good our promises, though, there must also surely be a concomitant right to change our minds as our circumstances and beliefs change',\n",
              " 'Many people, for example, say things that begin ‘shoot me if I ever …’, especially when young',\n",
              " 'And although it is often just a figure of speech, it is frequently said with the utmost sincerity, and often by people who are of the age of majority and so considered adults capable of making decisions about their own futures',\n",
              " 'To hold people to these vows, however, would be ridiculous',\n",
              " 'However, the fact that we do think it reasonable to change our minds should make us see these other long term commitments as also being less than absolute',\n",
              " 'For the plain truth is that we change',\n",
              " 'In a very real sense, we are not the same people that we were many years in the past',\n",
              " 'So when we make promises on behalf of our future selves, we are to some degree making promises for someone other than who we now are',\n",
              " 'And that means our promises should not be seen as morally binding']"
            ]
          },
          "metadata": {},
          "execution_count": 2
        }
      ]
    },
    {
      "cell_type": "code",
      "execution_count": null,
      "metadata": {
        "id": "8VO0ZRqTM7Yy"
      },
      "outputs": [],
      "source": [
        "!pip install transformers[sentencepiece] -Uq"
      ]
    },
    {
      "cell_type": "code",
      "source": [
        "from transformers import pipeline\n",
        "model_checkpoint = \"Helsinki-NLP/opus-mt-tc-big-en-es\"\n",
        "translation_model = pipeline(\"translation\", model=model_checkpoint)"
      ],
      "metadata": {
        "colab": {
          "base_uri": "https://localhost:8080/"
        },
        "id": "ts5VpiE0NQlL",
        "outputId": "8ed3bcc0-1b2c-4e1b-b1c3-6519291264ce"
      },
      "execution_count": null,
      "outputs": [
        {
          "output_type": "stream",
          "name": "stderr",
          "text": [
            "/usr/local/lib/python3.8/dist-packages/transformers/models/marian/tokenization_marian.py:194: UserWarning: Recommended: pip install sacremoses.\n",
            "  warnings.warn(\"Recommended: pip install sacremoses.\")\n"
          ]
        }
      ]
    },
    {
      "cell_type": "markdown",
      "source": [
        "Traducción con el modelo Helsinki-NLP"
      ],
      "metadata": {
        "id": "g7IVYup3rEuK"
      }
    },
    {
      "cell_type": "code",
      "source": [
        "translation_model(original_phrases)"
      ],
      "metadata": {
        "colab": {
          "base_uri": "https://localhost:8080/"
        },
        "id": "7p7Q3RJ4N8fx",
        "outputId": "0194c962-33f5-456c-83e9-b3131b9af73d"
      },
      "execution_count": null,
      "outputs": [
        {
          "output_type": "execute_result",
          "data": {
            "text/plain": [
              "[{'translation_text': 'La respuesta obvia es que, dado que podemos, por supuesto, tomar decisiones por nosotros mismos, no hay razón por la que estos no deban incluirnos en el futuro.'},\n",
              " {'translation_text': 'De hecho, tomamos tales decisiones todo el tiempo, cuando nos inscribimos en hipotecas de veinticinco años, planes de pensiones, para tener y mantener hasta la muerte nos hacen parte, o incluso sólo por un contrato de trabajo de dos años.'},\n",
              " {'translation_text': 'Sin embargo, junto con este deber de cumplir nuestras promesas, también debe haber un derecho concomitante de cambiar nuestras mentes a medida que cambian nuestras circunstancias y creencias.'},\n",
              " {'translation_text': 'Muchas personas, por ejemplo, dicen cosas que comienzan a “dispararme si alguna vez...”, especialmente cuando son jóvenes.'},\n",
              " {'translation_text': 'Y aunque a menudo es sólo una figura retórica, a menudo se dice con la mayor sinceridad, y a menudo por personas que son de la mayoría de edad y por lo tanto considerados adultos capaces de tomar decisiones sobre su propio futuro.'},\n",
              " {'translation_text': 'Sostener a la gente a estos votos, sin embargo, sería ridículo.'},\n",
              " {'translation_text': 'Sin embargo, el hecho de que pensemos que es razonable cambiar de opinión debería hacernos ver que estos otros compromisos a largo plazo también son menos que absolutos.'},\n",
              " {'translation_text': 'Porque la pura verdad es que cambiamos'},\n",
              " {'translation_text': 'En un sentido muy real, no somos las mismas personas que éramos hace muchos años en el pasado.'},\n",
              " {'translation_text': 'Así que cuando hacemos promesas en nombre de nuestro yo futuro, hasta cierto punto estamos haciendo promesas para alguien que no es quien somos ahora.'},\n",
              " {'translation_text': 'Y eso significa que nuestras promesas no deben ser vistas como moralmente vinculantes.'}]"
            ]
          },
          "metadata": {},
          "execution_count": 5
        }
      ]
    },
    {
      "cell_type": "code",
      "source": [
        "traducciones1 = translation_model(original_phrases)\n",
        "traducciones1 = [x['translation_text'] for x in traducciones1]\n",
        "traducciones1"
      ],
      "metadata": {
        "colab": {
          "base_uri": "https://localhost:8080/"
        },
        "id": "fhXrRJXNOBu0",
        "outputId": "773c1fd6-d637-446d-94cd-3776a1ff676c"
      },
      "execution_count": null,
      "outputs": [
        {
          "output_type": "execute_result",
          "data": {
            "text/plain": [
              "['La respuesta obvia es que, dado que podemos, por supuesto, tomar decisiones por nosotros mismos, no hay razón por la que estos no deban incluirnos en el futuro.',\n",
              " 'De hecho, tomamos tales decisiones todo el tiempo, cuando nos inscribimos en hipotecas de veinticinco años, planes de pensiones, para tener y mantener hasta la muerte nos hacen parte, o incluso sólo por un contrato de trabajo de dos años.',\n",
              " 'Sin embargo, junto con este deber de cumplir nuestras promesas, también debe haber un derecho concomitante de cambiar nuestras mentes a medida que cambian nuestras circunstancias y creencias.',\n",
              " 'Muchas personas, por ejemplo, dicen cosas que comienzan a “dispararme si alguna vez...”, especialmente cuando son jóvenes.',\n",
              " 'Y aunque a menudo es sólo una figura retórica, a menudo se dice con la mayor sinceridad, y a menudo por personas que son de la mayoría de edad y por lo tanto considerados adultos capaces de tomar decisiones sobre su propio futuro.',\n",
              " 'Sostener a la gente a estos votos, sin embargo, sería ridículo.',\n",
              " 'Sin embargo, el hecho de que pensemos que es razonable cambiar de opinión debería hacernos ver que estos otros compromisos a largo plazo también son menos que absolutos.',\n",
              " 'Porque la pura verdad es que cambiamos',\n",
              " 'En un sentido muy real, no somos las mismas personas que éramos hace muchos años en el pasado.',\n",
              " 'Así que cuando hacemos promesas en nombre de nuestro yo futuro, hasta cierto punto estamos haciendo promesas para alguien que no es quien somos ahora.',\n",
              " 'Y eso significa que nuestras promesas no deben ser vistas como moralmente vinculantes.']"
            ]
          },
          "metadata": {},
          "execution_count": 6
        }
      ]
    },
    {
      "cell_type": "markdown",
      "source": [
        "Traducción con [DeepL](https://www.deepl.com/translator)"
      ],
      "metadata": {
        "id": "-cIbOxYzrIYU"
      }
    },
    {
      "cell_type": "code",
      "source": [
        "traducciones2 = ['La respuesta obvia es que, puesto que podemos, por supuesto, tomar decisiones por nosotros mismos, no hay razón para que éstas no nos incluyan en el futuro',\n",
        "                 'De hecho, tomamos tales decisiones todo el tiempo, cuando firmamos hipotecas a veinticinco años, planes de pensiones, para tener y mantener hasta que la muerte nos separe, o incluso simplemente para un contrato de trabajo de dos años',\n",
        "                 'Sin embargo, junto a este deber de cumplir nuestras promesas, debe existir también el derecho concomitante a cambiar de opinión a medida que cambian nuestras circunstancias y creencias',\n",
        "                 'Muchas personas, por ejemplo, dicen cosas que empiezan por \"dispárame si alguna vez...\", especialmente cuando son jóvenes',\n",
        "                 'Y aunque a menudo es sólo una forma de hablar, con frecuencia se dice con la mayor sinceridad, y a menudo por personas que han alcanzado la mayoría de edad y, por tanto, se consideran adultos capaces de tomar decisiones sobre su propio futuro',\n",
        "                 'Sin embargo, sería ridículo obligar a la gente a hacer estos votos',\n",
        "                 'Sin embargo, el hecho de que consideremos razonable cambiar de opinión debería hacernos ver que estos otros compromisos a largo plazo también son menos que absolutos',\n",
        "                 'La verdad es que cambiamos',\n",
        "                 'En un sentido muy real, no somos las mismas personas que hace muchos años',\n",
        "                 'Por eso, cuando hacemos promesas en nombre de nuestro yo futuro, en cierta medida estamos haciendo promesas para alguien distinto de lo que somos ahora',\n",
        "                 'Y eso significa que nuestras promesas no deben considerarse moralmente vinculantes.']"
      ],
      "metadata": {
        "id": "Dsc43-s2pzny"
      },
      "execution_count": null,
      "outputs": []
    },
    {
      "cell_type": "markdown",
      "source": [
        "Evaluación"
      ],
      "metadata": {
        "id": "6aOnRSaZORGR"
      }
    },
    {
      "cell_type": "code",
      "source": [
        "reference_translation = ['La respuesta obvia es que, dado que podemos, por supuesto, tomar decisiones por nosotros mismos, no hay razón para que éstas no nos incluyan en el futuro',\n",
        "                         'De hecho, tomamos tales decisiones todo el tiempo, cuando firmamos hipotecas a veinticinco años, planes de pensiones, uniones hasta que la muerte nos separe, o incluso simplemente un contrato de trabajo de dos años',\n",
        "                         'Sin embargo, junto a este deber de cumplir nuestras promesas, debe existir también el derecho concomitante a cambiar de opinión a medida que cambian nuestras circunstancias y creencias',\n",
        "                         'Muchas personas, por ejemplo, dicen cosas que empiezan por \"dispárame si alguna vez...\", especialmente cuando son jóvenes',\n",
        "                         'Y aunque a menudo es sólo una forma de hablar, con frecuencia se dice con la mayor sinceridad, y a menudo por personas que han alcanzado la mayoría de edad y se consideran, por tanto, adultos capaces de tomar decisiones sobre su propio futuro',\n",
        "                         'A pesar de esto, sería ridículo cumplir con estas peticiones',\n",
        "                         'No obstante, el hecho de que consideremos razonable cambiar de opinión debería hacernos ver que estos otros compromisos a largo plazo tampoco son absolutos',\n",
        "                         'Lo cierto es que cambiamos',\n",
        "                         'En un sentido muy real, no somos las mismas personas que hace muchos años',\n",
        "                         'Por eso, cuando hacemos promesas en nombre de nuestro yo futuro, en cierta medida estamos haciendo promesas para alguien distinto de lo que somos ahora',\n",
        "                         'Y eso significa que nuestras promesas no deberían considerarse moralmente obligatorias.']"
      ],
      "metadata": {
        "id": "9WJS5QLenogG"
      },
      "execution_count": null,
      "outputs": []
    },
    {
      "cell_type": "code",
      "source": [
        "!pip install evaluate -Uq"
      ],
      "metadata": {
        "id": "5TqRJ0aBOR8E"
      },
      "execution_count": null,
      "outputs": []
    },
    {
      "cell_type": "code",
      "source": [
        "!pip install jiwer bert_score git+https://github.com/google-research/bleurt.git -Uq"
      ],
      "metadata": {
        "id": "m9OkBDb3OXy0",
        "colab": {
          "base_uri": "https://localhost:8080/"
        },
        "outputId": "baa32f08-a793-4f3b-a080-b49dfbcc867c"
      },
      "execution_count": null,
      "outputs": [
        {
          "output_type": "stream",
          "name": "stdout",
          "text": [
            "  Preparing metadata (setup.py) ... \u001b[?25l\u001b[?25hdone\n"
          ]
        }
      ]
    },
    {
      "cell_type": "markdown",
      "source": [
        "WER"
      ],
      "metadata": {
        "id": "AAPzoDn3OeGa"
      }
    },
    {
      "cell_type": "code",
      "source": [
        "from evaluate import load\n",
        "wer = load(\"wer\")"
      ],
      "metadata": {
        "id": "0-1Gyy8KOegd"
      },
      "execution_count": null,
      "outputs": []
    },
    {
      "cell_type": "markdown",
      "source": [
        "Score de Helsinki-NLP"
      ],
      "metadata": {
        "id": "P59wJ4NrsPU4"
      }
    },
    {
      "cell_type": "code",
      "source": [
        "wer_score1 = wer.compute(predictions=traducciones1, references=reference_translation)\n",
        "wer_score1"
      ],
      "metadata": {
        "id": "H6YjP6BaOgwG",
        "colab": {
          "base_uri": "https://localhost:8080/"
        },
        "outputId": "42673411-fb3d-45e3-f1c0-39dac39550ca"
      },
      "execution_count": null,
      "outputs": [
        {
          "output_type": "execute_result",
          "data": {
            "text/plain": [
              "0.3723849372384937"
            ]
          },
          "metadata": {},
          "execution_count": 12
        }
      ]
    },
    {
      "cell_type": "markdown",
      "source": [
        "Score de DeepL"
      ],
      "metadata": {
        "id": "aQuvUw6HsWFq"
      }
    },
    {
      "cell_type": "code",
      "source": [
        "wer_score2 = wer.compute(predictions=traducciones2, references=reference_translation)\n",
        "wer_score2"
      ],
      "metadata": {
        "colab": {
          "base_uri": "https://localhost:8080/"
        },
        "id": "Vi-9bMWXsMbl",
        "outputId": "abb584e2-37a8-42bf-cb12-9ee45ab29f1f"
      },
      "execution_count": null,
      "outputs": [
        {
          "output_type": "execute_result",
          "data": {
            "text/plain": [
              "0.13389121338912133"
            ]
          },
          "metadata": {},
          "execution_count": 13
        }
      ]
    },
    {
      "cell_type": "markdown",
      "source": [
        "WER es una métrica de error, con lo cual DeepL sería mejor que Helsinki-NLP."
      ],
      "metadata": {
        "id": "eG-EQXYGsi8T"
      }
    },
    {
      "cell_type": "markdown",
      "source": [
        "BLEU"
      ],
      "metadata": {
        "id": "dDnPISfJOrMJ"
      }
    },
    {
      "cell_type": "code",
      "source": [
        "bleu = load(\"bleu\")"
      ],
      "metadata": {
        "id": "NkdZ7BgDOroZ"
      },
      "execution_count": null,
      "outputs": []
    },
    {
      "cell_type": "markdown",
      "source": [
        "Score de Helsinki-NLP"
      ],
      "metadata": {
        "id": "HzoeiXc7u8ri"
      }
    },
    {
      "cell_type": "code",
      "source": [
        "bleu_score1 = bleu.compute(predictions=traducciones1, references=reference_translation)\n",
        "bleu_score1"
      ],
      "metadata": {
        "id": "GC4pNvueOsW7",
        "colab": {
          "base_uri": "https://localhost:8080/"
        },
        "outputId": "37e15227-861b-4ec6-bcaa-fb2c4b979dec"
      },
      "execution_count": null,
      "outputs": [
        {
          "output_type": "execute_result",
          "data": {
            "text/plain": [
              "{'bleu': 0.5559318449726542,\n",
              " 'precisions': [0.7235494880546075,\n",
              "  0.5921985815602837,\n",
              "  0.5129151291512916,\n",
              "  0.4346153846153846],\n",
              " 'brevity_penalty': 1.0,\n",
              " 'length_ratio': 1.0932835820895523,\n",
              " 'translation_length': 293,\n",
              " 'reference_length': 268}"
            ]
          },
          "metadata": {},
          "execution_count": 15
        }
      ]
    },
    {
      "cell_type": "markdown",
      "source": [
        "Score de DeepL"
      ],
      "metadata": {
        "id": "yKqXiUb_u_Do"
      }
    },
    {
      "cell_type": "code",
      "source": [
        "bleu_score2 = bleu.compute(predictions=traducciones2, references=reference_translation)\n",
        "bleu_score2"
      ],
      "metadata": {
        "id": "WHAitvfFOuAZ",
        "colab": {
          "base_uri": "https://localhost:8080/"
        },
        "outputId": "28028419-66cc-4bac-b62b-2f7890f1ea33"
      },
      "execution_count": null,
      "outputs": [
        {
          "output_type": "execute_result",
          "data": {
            "text/plain": [
              "{'bleu': 0.8537871927818911,\n",
              " 'precisions': [0.9094202898550725,\n",
              "  0.8679245283018868,\n",
              "  0.8346456692913385,\n",
              "  0.8065843621399177],\n",
              " 'brevity_penalty': 1.0,\n",
              " 'length_ratio': 1.0298507462686568,\n",
              " 'translation_length': 276,\n",
              " 'reference_length': 268}"
            ]
          },
          "metadata": {},
          "execution_count": 16
        }
      ]
    },
    {
      "cell_type": "markdown",
      "source": [
        "En la métrica BLEU cuanto más alto el valor se considera una mejor traducción, así que nuevamente gana la de DeepL."
      ],
      "metadata": {
        "id": "oJsTQ-qBvFxg"
      }
    },
    {
      "cell_type": "markdown",
      "source": [
        "METEOR"
      ],
      "metadata": {
        "id": "tYpTBAiEOxP0"
      }
    },
    {
      "cell_type": "code",
      "source": [
        "meteor = load(\"meteor\")"
      ],
      "metadata": {
        "id": "cqXKpiFfOx6O",
        "colab": {
          "base_uri": "https://localhost:8080/"
        },
        "outputId": "4e131f45-848f-4707-93cd-2f5bd5a202e6"
      },
      "execution_count": null,
      "outputs": [
        {
          "output_type": "stream",
          "name": "stderr",
          "text": [
            "[nltk_data] Downloading package wordnet to /root/nltk_data...\n",
            "[nltk_data]   Package wordnet is already up-to-date!\n",
            "[nltk_data] Downloading package punkt to /root/nltk_data...\n",
            "[nltk_data]   Package punkt is already up-to-date!\n",
            "[nltk_data] Downloading package omw-1.4 to /root/nltk_data...\n",
            "[nltk_data]   Package omw-1.4 is already up-to-date!\n"
          ]
        }
      ]
    },
    {
      "cell_type": "markdown",
      "source": [
        "Score de Helsinki-NLP"
      ],
      "metadata": {
        "id": "s_fJhCYk_6Cu"
      }
    },
    {
      "cell_type": "code",
      "source": [
        "meteor_score1 = meteor.compute(predictions=traducciones1, references=reference_translation)\n",
        "meteor_score1"
      ],
      "metadata": {
        "id": "taYBgSiEOzto",
        "colab": {
          "base_uri": "https://localhost:8080/"
        },
        "outputId": "f3652f5d-0070-4021-d8c4-9ab63099531e"
      },
      "execution_count": null,
      "outputs": [
        {
          "output_type": "execute_result",
          "data": {
            "text/plain": [
              "{'meteor': 0.7384653422941533}"
            ]
          },
          "metadata": {},
          "execution_count": 18
        }
      ]
    },
    {
      "cell_type": "markdown",
      "source": [
        "Score de DeepL"
      ],
      "metadata": {
        "id": "fqc3jXbj_8MX"
      }
    },
    {
      "cell_type": "code",
      "source": [
        "meteor_score2 = meteor.compute(predictions=traducciones2, references=reference_translation)\n",
        "meteor_score2"
      ],
      "metadata": {
        "colab": {
          "base_uri": "https://localhost:8080/"
        },
        "id": "GLLT4Y8D-F8o",
        "outputId": "2d831d11-7acf-4c65-8701-1c5e907240b0"
      },
      "execution_count": null,
      "outputs": [
        {
          "output_type": "execute_result",
          "data": {
            "text/plain": [
              "{'meteor': 0.8726770078352043}"
            ]
          },
          "metadata": {},
          "execution_count": 19
        }
      ]
    },
    {
      "cell_type": "markdown",
      "source": [
        "Nuevamente DeepL tiene un mejor score."
      ],
      "metadata": {
        "id": "bFt0FZJhAhks"
      }
    },
    {
      "cell_type": "markdown",
      "source": [
        "BERT Score"
      ],
      "metadata": {
        "id": "eIDkZijQO2FE"
      }
    },
    {
      "cell_type": "code",
      "source": [
        "bertscore = load(\"bertscore\")"
      ],
      "metadata": {
        "id": "SNIadoCXO2zd"
      },
      "execution_count": null,
      "outputs": []
    },
    {
      "cell_type": "markdown",
      "source": [
        "Score de Helsinki-NLP"
      ],
      "metadata": {
        "id": "imFwLuB4Bx9I"
      }
    },
    {
      "cell_type": "code",
      "source": [
        "bert_score1 = bertscore.compute(predictions=traducciones1, references=reference_translation,lang=\"es\")\n",
        "bert_score1"
      ],
      "metadata": {
        "id": "CQSW-mh5O4dS",
        "colab": {
          "base_uri": "https://localhost:8080/"
        },
        "outputId": "4a3d5d79-5930-4718-fa5c-910360faec44"
      },
      "execution_count": null,
      "outputs": [
        {
          "output_type": "execute_result",
          "data": {
            "text/plain": [
              "{'precision': [0.9262920022010803,\n",
              "  0.8642554879188538,\n",
              "  0.9407663345336914,\n",
              "  0.8883928060531616,\n",
              "  0.9235420227050781,\n",
              "  0.7303110361099243,\n",
              "  0.9181063771247864,\n",
              "  0.7879133820533752,\n",
              "  0.8841434121131897,\n",
              "  0.915709376335144,\n",
              "  0.9280824661254883],\n",
              " 'recall': [0.934088408946991,\n",
              "  0.8965352773666382,\n",
              "  0.9444389343261719,\n",
              "  0.8823687434196472,\n",
              "  0.9132331609725952,\n",
              "  0.7506001591682434,\n",
              "  0.9445184469223022,\n",
              "  0.8393476009368896,\n",
              "  0.9478656649589539,\n",
              "  0.9194135665893555,\n",
              "  0.9250270128250122],\n",
              " 'f1': [0.9301738739013672,\n",
              "  0.8800994753837585,\n",
              "  0.9425990581512451,\n",
              "  0.8853706121444702,\n",
              "  0.9183586239814758,\n",
              "  0.7403165698051453,\n",
              "  0.9311251640319824,\n",
              "  0.8128176331520081,\n",
              "  0.9148963093757629,\n",
              "  0.9175577163696289,\n",
              "  0.9265522360801697],\n",
              " 'hashcode': 'bert-base-multilingual-cased_L9_no-idf_version=0.3.12(hug_trans=4.26.1)'}"
            ]
          },
          "metadata": {},
          "execution_count": 21
        }
      ]
    },
    {
      "cell_type": "markdown",
      "source": [
        "Score de DeepL"
      ],
      "metadata": {
        "id": "DHeynlmnB0n-"
      }
    },
    {
      "cell_type": "code",
      "source": [
        "bert_score2 = bertscore.compute(predictions=traducciones2, references=reference_translation,lang=\"es\")\n",
        "bert_score2"
      ],
      "metadata": {
        "colab": {
          "base_uri": "https://localhost:8080/"
        },
        "id": "akdV6IIgATV3",
        "outputId": "ed496669-060f-454c-e4c1-f3129de80219"
      },
      "execution_count": null,
      "outputs": [
        {
          "output_type": "execute_result",
          "data": {
            "text/plain": [
              "{'precision': [0.996508777141571,\n",
              "  0.9485462307929993,\n",
              "  1.0,\n",
              "  1.0,\n",
              "  0.9908040761947632,\n",
              "  0.7927690148353577,\n",
              "  0.9618679285049438,\n",
              "  0.8840469717979431,\n",
              "  1.0,\n",
              "  0.9999999403953552,\n",
              "  0.954016387462616],\n",
              " 'recall': [0.996508777141571,\n",
              "  0.9704412817955017,\n",
              "  1.0,\n",
              "  1.0,\n",
              "  0.9908041954040527,\n",
              "  0.8236273527145386,\n",
              "  0.9801724553108215,\n",
              "  0.8840469717979431,\n",
              "  1.0,\n",
              "  0.9999999403953552,\n",
              "  0.943108856678009],\n",
              " 'f1': [0.996508777141571,\n",
              "  0.959368884563446,\n",
              "  1.0,\n",
              "  1.0,\n",
              "  0.990804135799408,\n",
              "  0.8079035878181458,\n",
              "  0.9709339141845703,\n",
              "  0.8840469717979431,\n",
              "  1.0,\n",
              "  0.9999999403953552,\n",
              "  0.9485312700271606],\n",
              " 'hashcode': 'bert-base-multilingual-cased_L9_no-idf_version=0.3.12(hug_trans=4.26.1)'}"
            ]
          },
          "metadata": {},
          "execution_count": 22
        }
      ]
    },
    {
      "cell_type": "markdown",
      "source": [
        "Para tener un poco más claras las métricas anteriores sacamos una media y desviación típica"
      ],
      "metadata": {
        "id": "JfjPbGCCCA_B"
      }
    },
    {
      "cell_type": "code",
      "source": [
        "import numpy as np\n",
        "np.mean(bert_score1['f1']),np.std(bert_score1['f1'])"
      ],
      "metadata": {
        "id": "UuJp3IReO6l5",
        "colab": {
          "base_uri": "https://localhost:8080/"
        },
        "outputId": "3aa2d10c-b20a-4871-9352-3508fba1291d"
      },
      "execution_count": null,
      "outputs": [
        {
          "output_type": "execute_result",
          "data": {
            "text/plain": [
              "(0.8908970247615468, 0.0588250558142322)"
            ]
          },
          "metadata": {},
          "execution_count": 23
        }
      ]
    },
    {
      "cell_type": "code",
      "source": [
        "np.mean(bert_score2['f1']),np.std(bert_score2['f1'])"
      ],
      "metadata": {
        "id": "msTmZf-qO8OF",
        "colab": {
          "base_uri": "https://localhost:8080/"
        },
        "outputId": "44d5009e-de5e-4f9d-e7ef-1b35ba65be9f"
      },
      "execution_count": null,
      "outputs": [
        {
          "output_type": "execute_result",
          "data": {
            "text/plain": [
              "(0.9598270437934182, 0.05864772600020361)"
            ]
          },
          "metadata": {},
          "execution_count": 24
        }
      ]
    },
    {
      "cell_type": "markdown",
      "source": [
        "La desviación típica es muy similar en ambos, pero la media de F1 es más alta para la traducción de DeepL"
      ],
      "metadata": {
        "id": "nqwHzzjeCVTI"
      }
    },
    {
      "cell_type": "markdown",
      "source": [
        "BLEURT"
      ],
      "metadata": {
        "id": "yvf7GqMuO-sH"
      }
    },
    {
      "cell_type": "code",
      "source": [
        "bleurtscore = load(\"bleurt\")"
      ],
      "metadata": {
        "id": "zzGCup5xO_P1",
        "colab": {
          "base_uri": "https://localhost:8080/",
          "height": 55
        },
        "outputId": "7bd47483-6c93-4de8-a256-4bf93acc4a5e"
      },
      "execution_count": null,
      "outputs": [
        {
          "output_type": "stream",
          "name": "stderr",
          "text": [
            "WARNING:evaluate_modules.metrics.evaluate-metric--bleurt.98e148b2f8c4a88aba5037e4e0e90c9fd9ec35dc37a054ded8cfef0fa801ffab.bleurt:Using default BLEURT-Base checkpoint for sequence maximum length 128. You can use a bigger model for better results with e.g.: evaluate.load('bleurt', 'bleurt-large-512').\n"
          ]
        }
      ]
    },
    {
      "cell_type": "markdown",
      "source": [
        "Score de Helsinki-NLP"
      ],
      "metadata": {
        "id": "WNtUq14LExvO"
      }
    },
    {
      "cell_type": "code",
      "source": [
        "bleurt_score1 = bleurtscore.compute(predictions=traducciones1, references=reference_translation)\n",
        "bleurt_score1"
      ],
      "metadata": {
        "id": "ZICpvtwAPBEa",
        "colab": {
          "base_uri": "https://localhost:8080/"
        },
        "outputId": "b906a53b-4493-4aa6-ac55-599122627a3a"
      },
      "execution_count": null,
      "outputs": [
        {
          "output_type": "execute_result",
          "data": {
            "text/plain": [
              "{'scores': [0.5979195833206177,\n",
              "  0.2204456776380539,\n",
              "  0.42691218852996826,\n",
              "  0.529697597026825,\n",
              "  0.18949896097183228,\n",
              "  -0.11392396688461304,\n",
              "  0.30275481939315796,\n",
              "  0.4065021276473999,\n",
              "  0.6438672542572021,\n",
              "  0.27149301767349243,\n",
              "  0.3750607371330261]}"
            ]
          },
          "metadata": {},
          "execution_count": 26
        }
      ]
    },
    {
      "cell_type": "markdown",
      "source": [
        "Score de DeepL"
      ],
      "metadata": {
        "id": "dTv2olzaEz1M"
      }
    },
    {
      "cell_type": "code",
      "source": [
        "bleurt_score2 = bleurtscore.compute(predictions=traducciones2, references=reference_translation)\n",
        "bleurt_score2"
      ],
      "metadata": {
        "colab": {
          "base_uri": "https://localhost:8080/"
        },
        "id": "ZaUQzGdzEp2B",
        "outputId": "958d3eb2-c012-494b-e825-91081ff7c336"
      },
      "execution_count": null,
      "outputs": [
        {
          "output_type": "execute_result",
          "data": {
            "text/plain": [
              "{'scores': [0.9293946623802185,\n",
              "  0.4424673318862915,\n",
              "  0.9909730553627014,\n",
              "  0.9902089238166809,\n",
              "  0.8837072253227234,\n",
              "  -0.08438979089260101,\n",
              "  0.3173651695251465,\n",
              "  0.41629558801651,\n",
              "  1.0253393650054932,\n",
              "  0.9967148900032043,\n",
              "  0.4884430766105652]}"
            ]
          },
          "metadata": {},
          "execution_count": 27
        }
      ]
    },
    {
      "cell_type": "markdown",
      "source": [
        "De nuevo, nos conviene sacar una media y desviación típica de estos scores"
      ],
      "metadata": {
        "id": "wH4SaMFBE0ve"
      }
    },
    {
      "cell_type": "code",
      "source": [
        "np.mean(bleurt_score1['scores']),np.std(bleurt_score1['scores'])"
      ],
      "metadata": {
        "id": "SCR1FGJrPDKh",
        "colab": {
          "base_uri": "https://localhost:8080/"
        },
        "outputId": "aad445e5-f9b8-49bb-8738-e3582837ce3d"
      },
      "execution_count": null,
      "outputs": [
        {
          "output_type": "execute_result",
          "data": {
            "text/plain": [
              "(0.35002072697336023, 0.20360727051565808)"
            ]
          },
          "metadata": {},
          "execution_count": 28
        }
      ]
    },
    {
      "cell_type": "code",
      "source": [
        "np.mean(bleurt_score2['scores']),np.std(bleurt_score2['scores'])"
      ],
      "metadata": {
        "colab": {
          "base_uri": "https://localhost:8080/"
        },
        "id": "VOQH11XVFPpC",
        "outputId": "ca362a18-fd3b-44c7-bff9-7439beec0da1"
      },
      "execution_count": null,
      "outputs": [
        {
          "output_type": "execute_result",
          "data": {
            "text/plain": [
              "(0.672410863366994, 0.35598950640714944)"
            ]
          },
          "metadata": {},
          "execution_count": 29
        }
      ]
    },
    {
      "cell_type": "markdown",
      "source": [
        "La desviación típica de la traducción de DeepL es algo mayor que la del modelo Helsinki-NLP, pero la media también es considerablemente mejor."
      ],
      "metadata": {
        "id": "xB04GE3xFYNA"
      }
    },
    {
      "cell_type": "markdown",
      "source": [
        "Por último podemos ver todas las métricas en una tabla:\n",
        "\n",
        "||Helsinki-NLP/opus-mt-tc-big-en-es|DeepL|\n",
        "|---|---|---|\n",
        "| WER | 0.37 | 0.13|\n",
        "| BLEU | 0.55 | 0.85|\n",
        "| METEOR |0.73 | 0.87|\n",
        "| BERT Score | 0.89 (0.05) | 0.95 (0.05)|\n",
        "| BLEURT | 0.35 (0.20) | 0.67 (0.35)|\n",
        "\n",
        "\n"
      ],
      "metadata": {
        "id": "Dz42N4flFvUf"
      }
    },
    {
      "cell_type": "code",
      "source": [],
      "metadata": {
        "id": "7rxfr5uPFf6z"
      },
      "execution_count": null,
      "outputs": []
    }
  ]
}